{
 "cells": [
  {
   "cell_type": "markdown",
   "metadata": {
    "slideshow": {
     "slide_type": "slide"
    }
   },
   "source": [
    "# The JuMP ecosystem for mathematical optimization\n",
    "\n",
    "## 2019 INFORMS-ALIO meeting\n"
   ]
  },
  {
   "cell_type": "markdown",
   "metadata": {
    "slideshow": {
     "slide_type": "slide"
    }
   },
   "source": [
    "## Minimum # of Passports to Visit all Countries?\n",
    "[![Passport Index](img/passportindex.jpg \"Passport Index\")](https://www.passportindex.org)\n",
    "\n",
    "199 passports = $10^{33}$ times the age of the universe to enumerate at $10^{17}$ flops!"
   ]
  },
  {
   "cell_type": "code",
   "execution_count": 1,
   "metadata": {},
   "outputs": [
    {
     "name": "stdout",
     "output_type": "stream",
     "text": [
      "\u001b[32m\u001b[1m  Updating\u001b[22m\u001b[39m registry at `~/.julia/registries/General`\n",
      "\u001b[32m\u001b[1m  Updating\u001b[22m\u001b[39m git-repo `https://github.com/JuliaRegistries/General.git`\n",
      "\u001b[?25l\u001b[2K\u001b[?25h"
     ]
    }
   ],
   "source": [
    "import Pkg\n",
    "Pkg.activate(@__DIR__)\n",
    "Pkg.instantiate()"
   ]
  },
  {
   "cell_type": "markdown",
   "metadata": {},
   "source": [
    "Download data from https://github.com/ilyankou/passport-index-dataset"
   ]
  },
  {
   "cell_type": "code",
   "execution_count": 2,
   "metadata": {
    "slideshow": {
     "slide_type": "fragment"
    }
   },
   "outputs": [
    {
     "name": "stderr",
     "output_type": "stream",
     "text": [
      "Cloning into 'passport-index-dataset'...\n"
     ]
    }
   ],
   "source": [
    ";git clone https://github.com/ilyankou/passport-index-dataset.git"
   ]
  },
  {
   "cell_type": "code",
   "execution_count": 3,
   "metadata": {
    "slideshow": {
     "slide_type": "fragment"
    }
   },
   "outputs": [],
   "source": [
    "using DelimitedFiles\n",
    "data = readdlm(joinpath(\"passport-index-dataset\",\"passport-index-matrix.csv\"),',')\n",
    "cntr = data[2:end,1]\n",
    "vf = (x ->  x == -1 || x == 3 ? 1 : 0).(data[2:end,2:end]);"
   ]
  },
  {
   "cell_type": "markdown",
   "metadata": {
    "slideshow": {
     "slide_type": "slide"
    }
   },
   "source": [
    "## (Constrained) Mathematical Optimization and JuMP\n",
    "\n",
    "$$\n",
    "\\begin{align*}\n",
    "\\min_{x,y} &&\\quad \\sum_{\\mathit{cntr} \\;\\in\\; \\mathit{World}} \\mathit{pass}_{\\,\\mathit{cntr}} \\\\\n",
    "\\text{s.t.}&&\\quad  \\sum_{\\mathit{cntr} \\;\\in\\; \\mathit{World}}\\mathit{vf}(\\mathit{cntr},\\mathit{dst}) \\cdot \\mathit{pass}_{\\,\\mathit{cntr}} &\\geq 1\\quad  &\\quad& \\forall \\; \\mathit{dst} \\;\\in \\; \\mathit{World}\\\\\n",
    " &&\\mathit{pass}_{\\,\\mathit{cntr}}  &\\in \\{0,1\\}&\\quad& \\forall \\; \\mathit{cntr}\\in \\; \\mathit{World}.\n",
    "\\end{align*}\n",
    "$$"
   ]
  },
  {
   "cell_type": "code",
   "execution_count": 4,
   "metadata": {
    "slideshow": {
     "slide_type": "fragment"
    }
   },
   "outputs": [
    {
     "name": "stdout",
     "output_type": "stream",
     "text": [
      "23.0 passports: Afghanistan, Angola, Australia, Austria, Comoros, Congo, Eritrea, Gambia, Georgia, Hong Kong, India, Iraq, Kenya, Madagascar, Maldives, North Korea, Papua New Guinea, Singapore, Somalia, Sri Lanka, Tunisia, United Arab Emirates, United States"
     ]
    }
   ],
   "source": [
    "using JuMP, GLPK\n",
    "model = Model(with_optimizer(GLPK.Optimizer))\n",
    "@variable(model, pass[1:length(cntr)], Bin)\n",
    "@constraint(model, [j=1:length(cntr)], sum( vf[i,j]*pass[i] for i in 1:length(cntr)) >= 1)\n",
    "@objective(model, Min, sum(pass))\n",
    "JuMP.optimize!(model)\n",
    "print(JuMP.objective_value(model),\" passports: \",join(cntr[findall(JuMP.value.(pass) .== 1)],\", \"))"
   ]
  },
  {
   "cell_type": "markdown",
   "metadata": {
    "slideshow": {
     "slide_type": "slide"
    }
   },
   "source": [
    "# A step by step example\n",
    "Let's see how we translate a simple, 2 variable LP to JuMP code.\n",
    "\n",
    "$$\n",
    "\\begin{align*}\n",
    "&\\max_{x,y}& \\quad x + 2y \\\\\n",
    "&\\text{s.t.}&\\quad x + y &\\leq 1 \\\\\n",
    "&&0\\leq x, y &\\leq 1\n",
    "\\end{align*}\n",
    "$$\n",
    "\n"
   ]
  },
  {
   "cell_type": "markdown",
   "metadata": {
    "slideshow": {
     "slide_type": "slide"
    }
   },
   "source": [
    "Load JuMP, MathOptInterface (MOI), and GLPK (GNU LP/MIP solver):"
   ]
  },
  {
   "cell_type": "code",
   "execution_count": 5,
   "metadata": {
    "slideshow": {
     "slide_type": "fragment"
    }
   },
   "outputs": [],
   "source": [
    "using JuMP  \n",
    "using MathOptInterface # Replaces MathProgBase\n",
    "# shortcuts\n",
    "const MOI = MathOptInterface\n",
    "\n",
    "using GLPK # Loading the GLPK module for using its solver"
   ]
  },
  {
   "cell_type": "markdown",
   "metadata": {
    "slideshow": {
     "slide_type": "slide"
    }
   },
   "source": [
    "Construct a model object (a container for variables, constraints, solver options, etc.):"
   ]
  },
  {
   "cell_type": "code",
   "execution_count": 6,
   "metadata": {
    "slideshow": {
     "slide_type": "fragment"
    }
   },
   "outputs": [],
   "source": [
    "model = Model(with_optimizer(GLPK.Optimizer, msg_lev = 4));  \n",
    "# Old syntax: model = Model(solver=GLPKSolverLP(msg_lev = 4)))"
   ]
  },
  {
   "cell_type": "markdown",
   "metadata": {
    "slideshow": {
     "slide_type": "fragment"
    }
   },
   "source": [
    "Define variables $0\\leq x, y \\leq 1$:"
   ]
  },
  {
   "cell_type": "code",
   "execution_count": 7,
   "metadata": {
    "slideshow": {
     "slide_type": "fragment"
    }
   },
   "outputs": [
    {
     "data": {
      "text/latex": [
       "$$ y $$"
      ],
      "text/plain": [
       "y"
      ]
     },
     "execution_count": 7,
     "metadata": {},
     "output_type": "execute_result"
    }
   ],
   "source": [
    "@variable(model, 0 <= x <= 1)\n",
    "@variable(model, 0 <= y <= 1)"
   ]
  },
  {
   "cell_type": "markdown",
   "metadata": {
    "slideshow": {
     "slide_type": "fragment"
    }
   },
   "source": [
    "Add constraint $x + y \\leq 1$:"
   ]
  },
  {
   "cell_type": "code",
   "execution_count": 8,
   "metadata": {
    "slideshow": {
     "slide_type": "fragment"
    }
   },
   "outputs": [
    {
     "data": {
      "text/latex": [
       "$ x + y \\leq 1.0 $"
      ],
      "text/plain": [
       "x + y ≤ 1.0"
      ]
     },
     "execution_count": 8,
     "metadata": {},
     "output_type": "execute_result"
    }
   ],
   "source": [
    "@constraint(model, x + y <= 1)"
   ]
  },
  {
   "cell_type": "markdown",
   "metadata": {
    "slideshow": {
     "slide_type": "fragment"
    }
   },
   "source": [
    "Add objective $\\max x + 2y$:"
   ]
  },
  {
   "cell_type": "code",
   "execution_count": 9,
   "metadata": {
    "slideshow": {
     "slide_type": "fragment"
    }
   },
   "outputs": [
    {
     "data": {
      "text/latex": [
       "$$ x + 2 y $$"
      ],
      "text/plain": [
       "x + 2 y"
      ]
     },
     "execution_count": 9,
     "metadata": {},
     "output_type": "execute_result"
    }
   ],
   "source": [
    "@objective(model, Max, x + 2y)"
   ]
  },
  {
   "cell_type": "markdown",
   "metadata": {
    "slideshow": {
     "slide_type": "slide"
    }
   },
   "source": [
    "To solve the optimization problem, call the `optimize` function."
   ]
  },
  {
   "cell_type": "code",
   "execution_count": 10,
   "metadata": {
    "slideshow": {
     "slide_type": "fragment"
    }
   },
   "outputs": [
    {
     "name": "stdout",
     "output_type": "stream",
     "text": [
      "GLPK Simplex Optimizer, v4.64\n",
      "1 row, 2 columns, 2 non-zeros\n",
      "*     0: obj =  -0.000000000e+00 inf =   0.000e+00 (2)\n",
      "*     2: obj =   2.000000000e+00 inf =   0.000e+00 (0)\n",
      "OPTIMAL LP SOLUTION FOUND\n"
     ]
    }
   ],
   "source": [
    "JuMP.optimize!(model) # Old syntax: status = JuMP.solve(model)"
   ]
  },
  {
   "cell_type": "markdown",
   "metadata": {
    "slideshow": {
     "slide_type": "fragment"
    }
   },
   "source": [
    "We can then check the status of the optimization call."
   ]
  },
  {
   "cell_type": "code",
   "execution_count": 11,
   "metadata": {
    "scrolled": true,
    "slideshow": {
     "slide_type": "fragment"
    }
   },
   "outputs": [
    {
     "name": "stdout",
     "output_type": "stream",
     "text": [
      "JuMP.has_values(model) = true\n",
      "JuMP.termination_status(model) == MOI.OPTIMAL = true\n",
      "JuMP.primal_status(model) == MOI.FEASIBLE_POINT = true\n",
      "JuMP.dual_status(model) == MOI.FEASIBLE_POINT = true\n"
     ]
    },
    {
     "data": {
      "text/plain": [
       "true"
      ]
     },
     "execution_count": 11,
     "metadata": {},
     "output_type": "execute_result"
    }
   ],
   "source": [
    "@show JuMP.has_values(model)\n",
    "@show JuMP.termination_status(model) == MOI.OPTIMAL\n",
    "@show JuMP.primal_status(model) == MOI.FEASIBLE_POINT\n",
    "@show JuMP.dual_status(model) == MOI.FEASIBLE_POINT"
   ]
  },
  {
   "cell_type": "markdown",
   "metadata": {
    "slideshow": {
     "slide_type": "slide"
    }
   },
   "source": [
    "# New Solver Status\n",
    "\n",
    "Much more details than old `:Optimal, :Unbounded, :Infeasible, :UserLimit, :Error, :NotSolved`"
   ]
  },
  {
   "cell_type": "markdown",
   "metadata": {
    "slideshow": {
     "slide_type": "fragment"
    }
   },
   "source": [
    "```julia \n",
    "@show JuMP.termination_status(model) == MOI.OPTIMAL\n",
    "```"
   ]
  },
  {
   "cell_type": "code",
   "execution_count": 12,
   "metadata": {
    "slideshow": {
     "slide_type": "fragment"
    }
   },
   "outputs": [
    {
     "data": {
      "text/plain": [
       "Enum MathOptInterface.TerminationStatusCode:\n",
       "OPTIMIZE_NOT_CALLED = 0\n",
       "OPTIMAL = 1\n",
       "INFEASIBLE = 2\n",
       "DUAL_INFEASIBLE = 3\n",
       "LOCALLY_SOLVED = 4\n",
       "LOCALLY_INFEASIBLE = 5\n",
       "INFEASIBLE_OR_UNBOUNDED = 6\n",
       "ALMOST_OPTIMAL = 7\n",
       "ALMOST_INFEASIBLE = 8\n",
       "ALMOST_DUAL_INFEASIBLE = 9\n",
       "ALMOST_LOCALLY_SOLVED = 10\n",
       "ITERATION_LIMIT = 11\n",
       "TIME_LIMIT = 12\n",
       "NODE_LIMIT = 13\n",
       "SOLUTION_LIMIT = 14\n",
       "MEMORY_LIMIT = 15\n",
       "OBJECTIVE_LIMIT = 16\n",
       "NORM_LIMIT = 17\n",
       "OTHER_LIMIT = 18\n",
       "SLOW_PROGRESS = 19\n",
       "NUMERICAL_ERROR = 20\n",
       "INVALID_MODEL = 21\n",
       "INVALID_OPTION = 22\n",
       "INTERRUPTED = 23\n",
       "OTHER_ERROR = 24"
      ]
     },
     "metadata": {},
     "output_type": "display_data"
    }
   ],
   "source": [
    "display(typeof(MOI.OPTIMAL))"
   ]
  },
  {
   "cell_type": "markdown",
   "metadata": {
    "slideshow": {
     "slide_type": "slide"
    }
   },
   "source": [
    "```julia\n",
    "@show JuMP.primal_status(model) == MOI.FEASIBLE_POINT\n",
    "```"
   ]
  },
  {
   "cell_type": "code",
   "execution_count": 13,
   "metadata": {
    "slideshow": {
     "slide_type": "fragment"
    }
   },
   "outputs": [
    {
     "data": {
      "text/plain": [
       "Enum MathOptInterface.ResultStatusCode:\n",
       "NO_SOLUTION = 0\n",
       "FEASIBLE_POINT = 1\n",
       "NEARLY_FEASIBLE_POINT = 2\n",
       "INFEASIBLE_POINT = 3\n",
       "INFEASIBILITY_CERTIFICATE = 4\n",
       "NEARLY_INFEASIBILITY_CERTIFICATE = 5\n",
       "UNKNOWN_RESULT_STATUS = 6\n",
       "OTHER_RESULT_STATUS = 7"
      ]
     },
     "metadata": {},
     "output_type": "display_data"
    }
   ],
   "source": [
    "display(typeof(MOI.FEASIBLE_POINT))"
   ]
  },
  {
   "cell_type": "markdown",
   "metadata": {
    "slideshow": {
     "slide_type": "fragment"
    }
   },
   "source": [
    "We can also inspect the solution values and optimal cost:"
   ]
  },
  {
   "cell_type": "code",
   "execution_count": 14,
   "metadata": {
    "slideshow": {
     "slide_type": "fragment"
    }
   },
   "outputs": [
    {
     "name": "stdout",
     "output_type": "stream",
     "text": [
      "JuMP.value(x) = 0.0\n",
      "JuMP.value(y) = 1.0\n",
      "JuMP.objective_value(model) = 2.0\n"
     ]
    },
    {
     "data": {
      "text/plain": [
       "2.0"
      ]
     },
     "execution_count": 14,
     "metadata": {},
     "output_type": "execute_result"
    }
   ],
   "source": [
    "@show JuMP.value(x)              # Old syntax: getvalue(x)\n",
    "@show JuMP.value(y)              # Old syntax: getvalue(y)\n",
    "@show JuMP.objective_value(model)       # Old syntax: getobjectivevalue(model)"
   ]
  },
  {
   "cell_type": "markdown",
   "metadata": {
    "slideshow": {
     "slide_type": "slide"
    }
   },
   "source": [
    "I can also \"name\" constraints for later reference."
   ]
  },
  {
   "cell_type": "code",
   "execution_count": 15,
   "metadata": {
    "scrolled": false,
    "slideshow": {
     "slide_type": "fragment"
    }
   },
   "outputs": [
    {
     "name": "stdout",
     "output_type": "stream",
     "text": [
      "JuMP.termination_status(model) == MOI.OPTIMAL = true\n"
     ]
    },
    {
     "data": {
      "text/plain": [
       "true"
      ]
     },
     "execution_count": 15,
     "metadata": {},
     "output_type": "execute_result"
    }
   ],
   "source": [
    "model = Model(with_optimizer(GLPK.Optimizer, msg_lev = 0))\n",
    "@variable(model, 0 <= x <= 1)\n",
    "@variable(model, 0 <= y <= 1)\n",
    "@constraint(model, inequality, x + y <= 1)     # <=============== constraint can be referenced later as \"inequality\"\n",
    "@objective(model, Max, x + 2y)\n",
    "JuMP.optimize!(model)\n",
    "@show JuMP.termination_status(model) == MOI.OPTIMAL"
   ]
  },
  {
   "cell_type": "markdown",
   "metadata": {
    "slideshow": {
     "slide_type": "fragment"
    }
   },
   "source": [
    "constraint references  can by used to delete them"
   ]
  },
  {
   "cell_type": "code",
   "execution_count": 16,
   "metadata": {
    "slideshow": {
     "slide_type": "fragment"
    }
   },
   "outputs": [
    {
     "name": "stdout",
     "output_type": "stream",
     "text": [
      "JuMP.termination_status(model) == MOI.OPTIMAL = true\n",
      "JuMP.objective_value(model) = 3.0\n"
     ]
    },
    {
     "data": {
      "text/plain": [
       "3.0"
      ]
     },
     "execution_count": 16,
     "metadata": {},
     "output_type": "execute_result"
    }
   ],
   "source": [
    "JuMP.delete(model, inequality)\n",
    "JuMP.optimize!(model)\n",
    "@show JuMP.termination_status(model) == MOI.OPTIMAL\n",
    "@show JuMP.objective_value(model)"
   ]
  },
  {
   "cell_type": "markdown",
   "metadata": {},
   "source": [
    "Constraint references can be used to modify problem (see [MOI](MOI.ipynb#Model-modifications)) and to get duals (see [Topics notebook](Topics.ipynb#Duality))."
   ]
  },
  {
   "cell_type": "markdown",
   "metadata": {
    "slideshow": {
     "slide_type": "slide"
    }
   },
   "source": [
    "## Collections of variables/constraints and summation in JuMP"
   ]
  },
  {
   "cell_type": "markdown",
   "metadata": {
    "slideshow": {
     "slide_type": "fragment"
    }
   },
   "source": [
    "You can also create collections of variables like $x_i \\geq 0 \\quad \\forall \\; i\\in\\{1,\\ldots,10\\}$"
   ]
  },
  {
   "cell_type": "code",
   "execution_count": 17,
   "metadata": {
    "slideshow": {
     "slide_type": "fragment"
    }
   },
   "outputs": [
    {
     "data": {
      "text/plain": [
       "10-element Array{VariableRef,1}:\n",
       " x[1] \n",
       " x[2] \n",
       " x[3] \n",
       " x[4] \n",
       " x[5] \n",
       " x[6] \n",
       " x[7] \n",
       " x[8] \n",
       " x[9] \n",
       " x[10]"
      ]
     },
     "execution_count": 17,
     "metadata": {},
     "output_type": "execute_result"
    }
   ],
   "source": [
    "model = Model()\n",
    "@variable(model, x[1:10] >= 0)"
   ]
  },
  {
   "cell_type": "markdown",
   "metadata": {
    "slideshow": {
     "slide_type": "fragment"
    }
   },
   "source": [
    "Also multidimensional indexing, separated by commas:"
   ]
  },
  {
   "cell_type": "code",
   "execution_count": 18,
   "metadata": {
    "slideshow": {
     "slide_type": "fragment"
    }
   },
   "outputs": [
    {
     "data": {
      "text/plain": [
       "2-dimensional DenseAxisArray{VariableRef,2,...} with index sets:\n",
       "    Dimension 1, 1:10\n",
       "    Dimension 2, [\"red\", \"blue\"]\n",
       "And data, a 10×2 Array{VariableRef,2}:\n",
       " y[1,red]   y[1,blue] \n",
       " y[2,red]   y[2,blue] \n",
       " y[3,red]   y[3,blue] \n",
       " y[4,red]   y[4,blue] \n",
       " y[5,red]   y[5,blue] \n",
       " y[6,red]   y[6,blue] \n",
       " y[7,red]   y[7,blue] \n",
       " y[8,red]   y[8,blue] \n",
       " y[9,red]   y[9,blue] \n",
       " y[10,red]  y[10,blue]"
      ]
     },
     "execution_count": 18,
     "metadata": {},
     "output_type": "execute_result"
    }
   ],
   "source": [
    "@variable(model, y[1:10,[\"red\",\"blue\"]] <= 1)"
   ]
  },
  {
   "cell_type": "markdown",
   "metadata": {
    "slideshow": {
     "slide_type": "fragment"
    }
   },
   "source": [
    "and more complicated expressions like $\\quad\n",
    "i \\leq z_{ij} \\leq u_j \\;\\;\\; \\forall i \\in \\{1,...,10\\}, j \\in \\{i+1, ..., 10\\}\n",
    "$:"
   ]
  },
  {
   "cell_type": "code",
   "execution_count": 19,
   "metadata": {
    "slideshow": {
     "slide_type": "fragment"
    }
   },
   "outputs": [
    {
     "data": {
      "text/plain": [
       "JuMP.Containers.SparseAxisArray{VariableRef,2,Tuple{Any,Any}} with 45 entries:\n",
       "  [8, 10]  =  z[8,10]\n",
       "  [3, 6 ]  =  z[3,6]\n",
       "  [6, 9 ]  =  z[6,9]\n",
       "  [8, 9 ]  =  z[8,9]\n",
       "  [1, 10]  =  z[1,10]\n",
       "  [4, 5 ]  =  z[4,5]\n",
       "  [2, 4 ]  =  z[2,4]\n",
       "  [4, 9 ]  =  z[4,9]\n",
       "  [1, 2 ]  =  z[1,2]\n",
       "  [3, 4 ]  =  z[3,4]\n",
       "           ⋮\n",
       "  [4, 6 ]  =  z[4,6]\n",
       "  [2, 10]  =  z[2,10]\n",
       "  [1, 9 ]  =  z[1,9]\n",
       "  [6, 10]  =  z[6,10]\n",
       "  [1, 8 ]  =  z[1,8]\n",
       "  [7, 10]  =  z[7,10]\n",
       "  [6, 7 ]  =  z[6,7]\n",
       "  [3, 10]  =  z[3,10]\n",
       "  [3, 8 ]  =  z[3,8]\n",
       "  [1, 5 ]  =  z[1,5]\n",
       "  [3, 5 ]  =  z[3,5]"
      ]
     },
     "execution_count": 19,
     "metadata": {},
     "output_type": "execute_result"
    }
   ],
   "source": [
    "u = rand(10)\n",
    "@variable(model, i <= z[i=1:10,j=(i+1):10] <= u[j])"
   ]
  },
  {
   "cell_type": "markdown",
   "metadata": {
    "slideshow": {
     "slide_type": "slide"
    }
   },
   "source": [
    "To specify conditions on the indexing, you can add conditionals inside the ``[...]`` block, separated by a semicolon:"
   ]
  },
  {
   "cell_type": "code",
   "execution_count": 20,
   "metadata": {
    "slideshow": {
     "slide_type": "fragment"
    }
   },
   "outputs": [
    {
     "data": {
      "text/plain": [
       "JuMP.Containers.SparseAxisArray{VariableRef,2,Tuple{Any,Any}} with 15 entries:\n",
       "  [10, blue]  =  w[10,blue]\n",
       "  [7, red  ]  =  w[7,red]\n",
       "  [8, red  ]  =  w[8,red]\n",
       "  [10, red ]  =  w[10,red]\n",
       "  [6, blue ]  =  w[6,blue]\n",
       "  [1, red  ]  =  w[1,red]\n",
       "  [5, red  ]  =  w[5,red]\n",
       "  [2, blue ]  =  w[2,blue]\n",
       "  [6, red  ]  =  w[6,red]\n",
       "  [3, red  ]  =  w[3,red]\n",
       "  [8, blue ]  =  w[8,blue]\n",
       "  [4, red  ]  =  w[4,red]\n",
       "  [4, blue ]  =  w[4,blue]\n",
       "  [2, red  ]  =  w[2,red]\n",
       "  [9, red  ]  =  w[9,red]"
      ]
     },
     "execution_count": 20,
     "metadata": {},
     "output_type": "execute_result"
    }
   ],
   "source": [
    "@variable(model, w[i=1:10, c=[\"red\",\"blue\"]; iseven(i) || c == \"red\"] >= 0)"
   ]
  },
  {
   "cell_type": "markdown",
   "metadata": {
    "slideshow": {
     "slide_type": "slide"
    }
   },
   "source": [
    "Also easy to create constrainta like $ \\sum _{i = 1}^{10} x_i \\leq 1$:"
   ]
  },
  {
   "cell_type": "code",
   "execution_count": 21,
   "metadata": {
    "slideshow": {
     "slide_type": "fragment"
    }
   },
   "outputs": [
    {
     "data": {
      "text/latex": [
       "$ x_{1} + x_{2} + x_{3} + x_{4} + x_{5} + x_{6} + x_{7} + x_{8} + x_{9} + x_{10} \\leq 1.0 $"
      ],
      "text/plain": [
       "x[1] + x[2] + x[3] + x[4] + x[5] + x[6] + x[7] + x[8] + x[9] + x[10] ≤ 1.0"
      ]
     },
     "execution_count": 21,
     "metadata": {},
     "output_type": "execute_result"
    }
   ],
   "source": [
    "@constraint(model, sum(x[i] for i in 1:10) <= 1)"
   ]
  },
  {
   "cell_type": "markdown",
   "metadata": {
    "slideshow": {
     "slide_type": "fragment"
    }
   },
   "source": [
    "Or more complicated ones like \n",
    "$\n",
    "\\sum_{\\substack{i\\in\\{1,...,10\\}\\\\\n",
    "                c\\in\\{\"red\",\"blue\"\\}}}\n",
    "       coef(c) \\cdot y_{ic} = 1\n",
    "$"
   ]
  },
  {
   "cell_type": "code",
   "execution_count": 22,
   "metadata": {
    "slideshow": {
     "slide_type": "fragment"
    }
   },
   "outputs": [
    {
     "data": {
      "text/latex": [
       "$ 2 y_{1,red} + 3 y_{1,blue} + 2 y_{2,red} + 3 y_{2,blue} + 2 y_{3,red} + 3 y_{3,blue} + 2 y_{4,red} + 3 y_{4,blue} + 2 y_{5,red} + 3 y_{5,blue} + 2 y_{6,red} + 3 y_{6,blue} + 2 y_{7,red} + 3 y_{7,blue} + 2 y_{8,red} + 3 y_{8,blue} + 2 y_{9,red} + 3 y_{9,blue} + 2 y_{10,red} + 3 y_{10,blue} = 1.0 $"
      ],
      "text/plain": [
       "2 y[1,red] + 3 y[1,blue] + 2 y[2,red] + 3 y[2,blue] + 2 y[3,red] + 3 y[3,blue] + 2 y[4,red] + 3 y[4,blue] + 2 y[5,red] + 3 y[5,blue] + 2 y[6,red] + 3 y[6,blue] + 2 y[7,red] + 3 y[7,blue] + 2 y[8,red] + 3 y[8,blue] + 2 y[9,red] + 3 y[9,blue] + 2 y[10,red] + 3 y[10,blue] = 1.0"
      ]
     },
     "execution_count": 22,
     "metadata": {},
     "output_type": "execute_result"
    }
   ],
   "source": [
    "coef = Dict(\"red\" => 2, \"blue\" => 3)\n",
    "@constraint(model, sum(coef[c]*y[i,c] for i in 1:10, c in [\"red\",\"blue\"]) == 1)"
   ]
  },
  {
   "cell_type": "markdown",
   "metadata": {
    "slideshow": {
     "slide_type": "fragment"
    }
   },
   "source": [
    "or $\n",
    "\\sum_{i = 1}^{10} \\sum_{j = i+1}^{10} \n",
    "       i \\cdot j \\cdot z_{ij} \\leq\n",
    "\\sum_{\\substack{i\\in\\{1,...,10\\},\n",
    "                c\\in\\{\"red\",\"blue\"\\} \\\\\n",
    "                \\text{s.t. } iseven(i) \\text{ or } c = \"red\"}}\n",
    "       i^2 \\cdot w_{ic} \n",
    "$:"
   ]
  },
  {
   "cell_type": "code",
   "execution_count": 23,
   "metadata": {
    "slideshow": {
     "slide_type": "fragment"
    }
   },
   "outputs": [
    {
     "data": {
      "text/latex": [
       "$ 2 z_{1,2} + 3 z_{1,3} + 4 z_{1,4} + 5 z_{1,5} + 6 z_{1,6} + 7 z_{1,7} + 8 z_{1,8} + 9 z_{1,9} + 10 z_{1,10} + 6 z_{2,3} + 8 z_{2,4} + 10 z_{2,5} + 12 z_{2,6} + 14 z_{2,7} + 16 z_{2,8} + 18 z_{2,9} + 20 z_{2,10} + 12 z_{3,4} + 15 z_{3,5} + 18 z_{3,6} + 21 z_{3,7} + 24 z_{3,8} + 27 z_{3,9} + 30 z_{3,10} + 20 z_{4,5} + 24 z_{4,6} + 28 z_{4,7} + 32 z_{4,8} + 36 z_{4,9} + 40 z_{4,10} + 30 z_{5,6} + 35 z_{5,7} + 40 z_{5,8} + 45 z_{5,9} + 50 z_{5,10} + 42 z_{6,7} + 48 z_{6,8} + 54 z_{6,9} + 60 z_{6,10} + 56 z_{7,8} + 63 z_{7,9} + 70 z_{7,10} + 72 z_{8,9} + 80 z_{8,10} + 90 z_{9,10} - w_{1,red} - 4 w_{2,red} - 4 w_{2,blue} - 9 w_{3,red} - 16 w_{4,red} - 16 w_{4,blue} - 25 w_{5,red} - 36 w_{6,red} - 36 w_{6,blue} - 49 w_{7,red} - 64 w_{8,red} - 64 w_{8,blue} - 81 w_{9,red} - 100 w_{10,red} - 100 w_{10,blue} \\leq 0.0 $"
      ],
      "text/plain": [
       "2 z[1,2] + 3 z[1,3] + 4 z[1,4] + 5 z[1,5] + 6 z[1,6] + 7 z[1,7] + 8 z[1,8] + 9 z[1,9] + 10 z[1,10] + 6 z[2,3] + 8 z[2,4] + 10 z[2,5] + 12 z[2,6] + 14 z[2,7] + 16 z[2,8] + 18 z[2,9] + 20 z[2,10] + 12 z[3,4] + 15 z[3,5] + 18 z[3,6] + 21 z[3,7] + 24 z[3,8] + 27 z[3,9] + 30 z[3,10] + 20 z[4,5] + 24 z[4,6] + 28 z[4,7] + 32 z[4,8] + 36 z[4,9] + 40 z[4,10] + 30 z[5,6] + 35 z[5,7] + 40 z[5,8] + 45 z[5,9] + 50 z[5,10] + 42 z[6,7] + 48 z[6,8] + 54 z[6,9] + 60 z[6,10] + 56 z[7,8] + 63 z[7,9] + 70 z[7,10] + 72 z[8,9] + 80 z[8,10] + 90 z[9,10] - w[1,red] - 4 w[2,red] - 4 w[2,blue] - 9 w[3,red] - 16 w[4,red] - 16 w[4,blue] - 25 w[5,red] - 36 w[6,red] - 36 w[6,blue] - 49 w[7,red] - 64 w[8,red] - 64 w[8,blue] - 81 w[9,red] - 100 w[10,red] - 100 w[10,blue] ≤ 0.0"
      ]
     },
     "execution_count": 23,
     "metadata": {},
     "output_type": "execute_result"
    }
   ],
   "source": [
    "@constraint(model, sum(i*j*z[i,j] for i in 1:10, j in (i+1):10) <=\n",
    "               sum(i^2*w[i,c] for i in 1:10, c in [\"red\",\"blue\"] if iseven(i) || c == \"red\"))"
   ]
  },
  {
   "cell_type": "markdown",
   "metadata": {
    "slideshow": {
     "slide_type": "slide"
    }
   },
   "source": [
    "Can also do collections of constraints (named or unamed):\n",
    "    $$ \n",
    "\\begin{align}\n",
    "x_i &\\leq 0.9 \\quad \\forall i \\in \\{1,2,3\\} \\quad\\text{ (large bounds)}\\\\\n",
    "x_i &\\leq 0.5 \\quad \\forall i \\in \\{4,5,6\\} \n",
    "\\end{align}\n",
    "$$"
   ]
  },
  {
   "cell_type": "code",
   "execution_count": 24,
   "metadata": {
    "slideshow": {
     "slide_type": "fragment"
    }
   },
   "outputs": [
    {
     "data": {
      "text/plain": [
       "1-dimensional DenseAxisArray{ConstraintRef{Model,C,Shape} where Shape<:AbstractShape where C,1,...} with index sets:\n",
       "    Dimension 1, 4:6\n",
       "And data, a 3-element Array{ConstraintRef{Model,C,Shape} where Shape<:AbstractShape where C,1}:\n",
       " x[4] ≤ 0.5\n",
       " x[5] ≤ 0.5\n",
       " x[6] ≤ 0.5"
      ]
     },
     "execution_count": 24,
     "metadata": {},
     "output_type": "execute_result"
    }
   ],
   "source": [
    "@constraint(model,largebounds[i=1:3], x[i] <= 0.9)\n",
    "@constraint(model,[i=4:6], x[i] <= 0.5)"
   ]
  },
  {
   "cell_type": "markdown",
   "metadata": {
    "slideshow": {
     "slide_type": "slide"
    }
   },
   "source": [
    "# Classes of Constraints Beyond Linear Inequalities"
   ]
  },
  {
   "cell_type": "markdown",
   "metadata": {
    "slideshow": {
     "slide_type": "fragment"
    }
   },
   "source": [
    "Broadcasted and two sided linear inequalities:"
   ]
  },
  {
   "cell_type": "code",
   "execution_count": 25,
   "metadata": {
    "slideshow": {
     "slide_type": "fragment"
    }
   },
   "outputs": [
    {
     "data": {
      "text/plain": [
       "2-element Array{ConstraintRef{Model,MathOptInterface.ConstraintIndex{MathOptInterface.ScalarAffineFunction{Float64},MathOptInterface.Interval{Float64}},ScalarShape},1}:\n",
       " x[1] + 2 x[2] ∈ [4.0, 2.0]  \n",
       " 3 x[1] + 4 x[2] ∈ [5.0, 3.0]"
      ]
     },
     "execution_count": 25,
     "metadata": {},
     "output_type": "execute_result"
    }
   ],
   "source": [
    "A = [1.0 2.0; 3.0 4.0]\n",
    "l = [4.0, 5.0]\n",
    "u = [2.0, 3.0]\n",
    "model = Model()\n",
    "@variable(model, x[1:2])\n",
    "@constraint(model, l .<= A*x .<= u)"
   ]
  },
  {
   "cell_type": "markdown",
   "metadata": {
    "slideshow": {
     "slide_type": "slide"
    }
   },
   "source": [
    "## Quadratic Inequalities:"
   ]
  },
  {
   "cell_type": "markdown",
   "metadata": {},
   "source": [
    "Both convex:"
   ]
  },
  {
   "cell_type": "code",
   "execution_count": 26,
   "metadata": {
    "slideshow": {
     "slide_type": "fragment"
    }
   },
   "outputs": [
    {
     "data": {
      "text/latex": [
       "$ x_{1}^2 + x_{2} \\leq 1.0 $"
      ],
      "text/plain": [
       "x[1]² + x[2] ≤ 1.0"
      ]
     },
     "execution_count": 26,
     "metadata": {},
     "output_type": "execute_result"
    }
   ],
   "source": [
    "model = Model()\n",
    "@variable(model, x[1:2])\n",
    "@constraint(model, x[1]^2 + x[2] <= 1)"
   ]
  },
  {
   "cell_type": "markdown",
   "metadata": {
    "slideshow": {
     "slide_type": "fragment"
    }
   },
   "source": [
    "and non-convex:"
   ]
  },
  {
   "cell_type": "code",
   "execution_count": 27,
   "metadata": {
    "slideshow": {
     "slide_type": "fragment"
    }
   },
   "outputs": [
    {
     "data": {
      "text/latex": [
       "$ x_{1}\\times x_{2} = 1.0 $"
      ],
      "text/plain": [
       "x[1]*x[2] = 1.0"
      ]
     },
     "execution_count": 27,
     "metadata": {},
     "output_type": "execute_result"
    }
   ],
   "source": [
    "@constraint(model, x[1]*x[2] - 1.0 == 0.0)"
   ]
  },
  {
   "cell_type": "markdown",
   "metadata": {
    "slideshow": {
     "slide_type": "slide"
    }
   },
   "source": [
    "## Conic constraints including..."
   ]
  },
  {
   "cell_type": "markdown",
   "metadata": {
    "slideshow": {
     "slide_type": "fragment"
    }
   },
   "source": [
    "Semidefinite constraints:"
   ]
  },
  {
   "cell_type": "code",
   "execution_count": 28,
   "metadata": {
    "slideshow": {
     "slide_type": "fragment"
    }
   },
   "outputs": [
    {
     "data": {
      "text/latex": [
       "$ \\begin{bmatrix}\n",
       "t - 1 & -t + 1\\\\\n",
       "-t + 1 & -w + 2\\\\\n",
       "\\end{bmatrix} \\in PSDCone() $"
      ],
      "text/plain": [
       "[t - 1   -t + 1;\n",
       " -t + 1  -w + 2] ∈ PSDCone()"
      ]
     },
     "execution_count": 28,
     "metadata": {},
     "output_type": "execute_result"
    }
   ],
   "source": [
    "model = Model()                         # using CSDP; model = Model(with_optimizer(CSDP.CSDPOptimizer))\n",
    "@variable(model, y[1:2,1:2], Symmetric)\n",
    "@constraint(model, y in PSDCone())  \n",
    "@variable(model, t)\n",
    "@variable(model, w)\n",
    "@SDconstraint(model,  [t 1; 1 -w] ⪰ [1 t; t -2])"
   ]
  },
  {
   "cell_type": "markdown",
   "metadata": {
    "slideshow": {
     "slide_type": "slide"
    }
   },
   "source": [
    "Second order cone constraints:\n",
    "$$ \n",
    "\\begin{equation}\n",
    "\\left\\| Ax+u \\right\\|_2 \\leq t\n",
    "\\end{equation}\n",
    "$$"
   ]
  },
  {
   "cell_type": "code",
   "execution_count": 29,
   "metadata": {
    "slideshow": {
     "slide_type": "fragment"
    }
   },
   "outputs": [
    {
     "data": {
      "text/latex": [
       "$ [t, x_{1} + 2 x_{2} + 2, 3 x_{1} + 4 x_{2} + 3] \\in MathOptInterface.SecondOrderCone(3) $"
      ],
      "text/plain": [
       "[t, x[1] + 2 x[2] + 2, 3 x[1] + 4 x[2] + 3] ∈ MathOptInterface.SecondOrderCone(3)"
      ]
     },
     "execution_count": 29,
     "metadata": {},
     "output_type": "execute_result"
    }
   ],
   "source": [
    "model = Model()\n",
    "@variable(model, x[1:2])\n",
    "@variable(model, t)\n",
    "@constraint(model, [t;A*x+u] in SecondOrderCone())"
   ]
  },
  {
   "cell_type": "markdown",
   "metadata": {
    "slideshow": {
     "slide_type": "fragment"
    }
   },
   "source": [
    "Rotated second order cone constraints:\n",
    "$$ \n",
    "\\begin{equation}\n",
    "\\left\\| Ax+u \\right\\|_2 \\leq t \\cdot w,\\quad w\\geq 0\n",
    "\\end{equation}\n",
    "$$"
   ]
  },
  {
   "cell_type": "code",
   "execution_count": 30,
   "metadata": {
    "slideshow": {
     "slide_type": "fragment"
    }
   },
   "outputs": [
    {
     "data": {
      "text/latex": [
       "$ [t, w, x_{1} + 2 x_{2} + 2, 3 x_{1} + 4 x_{2} + 3] \\in MathOptInterface.RotatedSecondOrderCone(4) $"
      ],
      "text/plain": [
       "[t, w, x[1] + 2 x[2] + 2, 3 x[1] + 4 x[2] + 3] ∈ MathOptInterface.RotatedSecondOrderCone(4)"
      ]
     },
     "execution_count": 30,
     "metadata": {},
     "output_type": "execute_result"
    }
   ],
   "source": [
    "model = Model()\n",
    "@variable(model, x[1:2])\n",
    "@variable(model, t)\n",
    "@variable(model, w)\n",
    "@constraint(model, [t;w;A*x+u] in RotatedSecondOrderCone())"
   ]
  },
  {
   "cell_type": "markdown",
   "metadata": {
    "collapsed": true,
    "slideshow": {
     "slide_type": "slide"
    }
   },
   "source": [
    "# Also \"derivative based\" nonlinear constraints\n",
    "\n",
    "Remains unchanged:"
   ]
  },
  {
   "cell_type": "code",
   "execution_count": 31,
   "metadata": {
    "slideshow": {
     "slide_type": "fragment"
    }
   },
   "outputs": [
    {
     "name": "stdout",
     "output_type": "stream",
     "text": [
      "\n",
      "******************************************************************************\n",
      "This program contains Ipopt, a library for large-scale nonlinear optimization.\n",
      " Ipopt is released as open source code under the Eclipse Public License (EPL).\n",
      "         For more information visit http://projects.coin-or.org/Ipopt\n",
      "******************************************************************************\n",
      "\n",
      "This is Ipopt version 3.12.10, running with linear solver mumps.\n",
      "NOTE: Other linear solvers might be more efficient (see Ipopt documentation).\n",
      "\n",
      "Number of nonzeros in equality constraint Jacobian...:        0\n",
      "Number of nonzeros in inequality constraint Jacobian.:        1\n",
      "Number of nonzeros in Lagrangian Hessian.............:        4\n",
      "\n",
      "Total number of variables............................:        2\n",
      "                     variables with only lower bounds:        0\n",
      "                variables with lower and upper bounds:        0\n",
      "                     variables with only upper bounds:        0\n",
      "Total number of equality constraints.................:        0\n",
      "Total number of inequality constraints...............:        1\n",
      "        inequality constraints with only lower bounds:        0\n",
      "   inequality constraints with lower and upper bounds:        0\n",
      "        inequality constraints with only upper bounds:        1\n",
      "\n",
      "iter    objective    inf_pr   inf_du lg(mu)  ||d||  lg(rg) alpha_du alpha_pr  ls\n",
      "   0  1.0000000e+00 1.00e+00 0.00e+00  -1.0 0.00e+00    -  0.00e+00 0.00e+00   0\n",
      "   1  1.1271001e+01 6.01e-02 6.56e+01  -1.0 5.46e-01    -  1.00e+00 1.00e+00h  1\n",
      "   2  3.1638662e+00 4.28e-02 1.79e+01  -1.0 3.17e-01    -  1.00e+00 7.13e-01f  1\n",
      "   3  2.5851172e+00 0.00e+00 1.08e+00  -1.0 1.41e-01    -  1.00e+00 1.00e+00f  1\n",
      "   4  2.6099717e+00 0.00e+00 1.25e-02  -1.0 1.21e-02    -  1.00e+00 1.00e+00h  1\n",
      "   5  2.5289573e+00 0.00e+00 1.55e-01  -2.5 3.43e-02    -  1.00e+00 1.00e+00f  1\n",
      "   6  2.5262625e+00 0.00e+00 3.78e-04  -2.5 1.51e-03    -  1.00e+00 1.00e+00h  1\n",
      "   7  2.5235888e+00 0.00e+00 1.70e-04  -3.8 1.17e-03    -  1.00e+00 1.00e+00f  1\n",
      "   8  2.5234381e+00 0.00e+00 5.52e-07  -5.7 6.62e-05    -  1.00e+00 1.00e+00h  1\n",
      "   9  2.5234363e+00 0.00e+00 8.16e-11  -8.6 8.09e-07    -  1.00e+00 1.00e+00h  1\n",
      "\n",
      "Number of Iterations....: 9\n",
      "\n",
      "                                   (scaled)                 (unscaled)\n",
      "Objective...............:   2.5234362583018233e+00    2.5234362583018233e+00\n",
      "Dual infeasibility......:   8.1634699000687760e-11    8.1634699000687760e-11\n",
      "Constraint violation....:   0.0000000000000000e+00    0.0000000000000000e+00\n",
      "Complementarity.........:   2.5074330278896033e-09    2.5074330278896033e-09\n",
      "Overall NLP error.......:   2.5074330278896033e-09    2.5074330278896033e-09\n",
      "\n",
      "\n",
      "Number of objective function evaluations             = 10\n",
      "Number of objective gradient evaluations             = 10\n",
      "Number of equality constraint evaluations            = 0\n",
      "Number of inequality constraint evaluations          = 10\n",
      "Number of equality constraint Jacobian evaluations   = 0\n",
      "Number of inequality constraint Jacobian evaluations = 10\n",
      "Number of Lagrangian Hessian evaluations             = 9\n",
      "Total CPU secs in IPOPT (w/o function evaluations)   =      2.360\n",
      "Total CPU secs in NLP function evaluations           =      1.220\n",
      "\n",
      "EXIT: Optimal Solution Found.\n"
     ]
    }
   ],
   "source": [
    "using Ipopt\n",
    "\n",
    "model = Model(with_optimizer(Ipopt.Optimizer))\n",
    "@variable(model, x)\n",
    "@variable(model, y)\n",
    "\n",
    "@NLobjective(model, Min, (1-x)^2 + 100(y-x^2)^2)\n",
    "@NLconstraint(model, exp(x)+sin(x) <=0)\n",
    "\n",
    "JuMP.optimize!(model)"
   ]
  },
  {
   "cell_type": "code",
   "execution_count": null,
   "metadata": {},
   "outputs": [],
   "source": []
  }
 ],
 "metadata": {
  "@webio": {
   "lastCommId": null,
   "lastKernelId": null
  },
  "anaconda-cloud": {},
  "kernelspec": {
   "display_name": "Julia 1.1.0",
   "language": "julia",
   "name": "julia-1.1"
  },
  "language_info": {
   "file_extension": ".jl",
   "mimetype": "application/julia",
   "name": "julia",
   "version": "1.1.0"
  }
 },
 "nbformat": 4,
 "nbformat_minor": 2
}
